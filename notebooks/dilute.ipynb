{
 "cells": [
  {
   "cell_type": "markdown",
   "metadata": {},
   "source": [
    "# Solution Dilution"
   ]
  },
  {
   "cell_type": "markdown",
   "metadata": {},
   "source": [
    "## Functions"
   ]
  },
  {
   "cell_type": "markdown",
   "metadata": {},
   "source": [
    "### get_dilute_volume function\n",
    "Uses the v1 * c1 = v2 * v2 formula and subtracts the original volume at the end for convenience"
   ]
  },
  {
   "cell_type": "code",
   "execution_count": 2,
   "metadata": {},
   "outputs": [],
   "source": [
    "def get_dilute_volume(v1,c1,c2,unit):\n",
    "   temp = v1 * c1\n",
    "   v2 = temp / c2\n",
    "   dilu = v2-v1\n",
    "   return str(dilu) + \" \" + unit"
   ]
  },
  {
   "cell_type": "markdown",
   "metadata": {},
   "source": [
    "## Use"
   ]
  },
  {
   "cell_type": "code",
   "execution_count": 4,
   "metadata": {},
   "outputs": [
    {
     "name": "stdout",
     "output_type": "stream",
     "text": [
      "-784.0 ml\n"
     ]
    }
   ],
   "source": [
    "dilute = get_dilute_volume(v1=800,c1=1,c2=50,unit=\"ml\")\n",
    "\n",
    "print(dilute)"
   ]
  }
 ],
 "metadata": {
  "interpreter": {
   "hash": "9b36531b7743067abac525e8c3ce56d17e26ba975cc657737f4c37cd1820db21"
  },
  "kernelspec": {
   "display_name": "Python 3.9.12 ('standard_toolkit')",
   "language": "python",
   "name": "python3"
  },
  "language_info": {
   "codemirror_mode": {
    "name": "ipython",
    "version": 3
   },
   "file_extension": ".py",
   "mimetype": "text/x-python",
   "name": "python",
   "nbconvert_exporter": "python",
   "pygments_lexer": "ipython3",
   "version": "3.9.7"
  },
  "orig_nbformat": 4
 },
 "nbformat": 4,
 "nbformat_minor": 2
}
